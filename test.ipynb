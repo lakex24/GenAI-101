{
 "cells": [
  {
   "cell_type": "code",
   "execution_count": null,
   "metadata": {},
   "outputs": [],
   "source": [
    "from importlib import reload\n",
    "import read_csv_data\n",
    "\n",
    "read_csv_data = reload(read_csv_data)\n",
    "\n",
    "csv_file_path = 'data/nba_players/all_seasons.csv'\n",
    "\n",
    "player_names_heights = read_csv_data.extract_nba_player_names_heights(csv_file_path)\n",
    "\n"
   ]
  },
  {
   "cell_type": "code",
   "execution_count": null,
   "metadata": {},
   "outputs": [],
   "source": [
    "print(len(player_names_heights))\n",
    "\n",
    "len(list(player_names_heights.values())[:])\n",
    "\n",
    "for k in player_names_heights.keys():\n",
    "    if player_names_heights[k] > 231:\n",
    "        print(k, player_names_heights[k])\n"
   ]
  },
  {
   "cell_type": "code",
   "execution_count": null,
   "metadata": {},
   "outputs": [],
   "source": [
    "import numpy as np\n",
    "import matplotlib.pyplot as plt\n",
    "\n",
    "# Example data set\n",
    "height_data = list(player_names_heights.values())[:]\n",
    "data = np.array(height_data)\n",
    "\n",
    "print(type(height_data[0]))\n",
    "print(data.dtype)\n",
    "\n",
    "# Manually insert two data points into data\n",
    "# to make the visualization cleaner..\n",
    "data = np.append(data, 160.0)\n",
    "data = np.append(data, 240.0)\n",
    "\n",
    "# Number of bins\n",
    "bins = 8\n",
    "\n",
    "# Calculate histogram\n",
    "# when you set density=False, the first value of the tuple will be the counts of the bins\n",
    "counts, bin_edges1 = np.histogram(data, bins=bins, density=False)\n",
    "\n",
    "sum_counts = sum(counts)\n",
    "print(sum_counts)\n",
    "for count in counts:\n",
    "    print(f'{count}')\n",
    "\n",
    "print('bin_edges1:', bin_edges1)\n",
    "\n",
    "\n",
    "# when you set density=True, the total area under the histogram will sum to 1\n",
    "probs, bin_edges2 = np.histogram(data, bins=bins, density=True)\n",
    "\n",
    "sum_probs = 0.0\n",
    "for i, prob in enumerate(probs):\n",
    "    bin_width = (bin_edges2[i+1] - bin_edges2[i])\n",
    "    sum_probs += prob * bin_width\n",
    "    print(f'{prob:.5f} * {bin_width:.2f}')\n",
    "\n",
    "print(sum_probs)\n",
    "\n",
    "print('bin_edges2:', bin_edges2)\n",
    "\n",
    "print(sorted(data))\n",
    "print('min:', min(data))\n",
    "print('max:', max(data))"
   ]
  },
  {
   "cell_type": "code",
   "execution_count": 66,
   "metadata": {},
   "outputs": [
    {
     "data": {
      "image/png": "[encoded data removed]",
      "text/plain": [
       "<Figure size 640x480 with 1 Axes>"
      ]
     },
     "metadata": {},
     "output_type": "display_data"
    }
   ],
   "source": [
    "# # Plotting the histogram\n",
    "# plt.hist(data, bins=bins, edgecolor='black')\n",
    "\n",
    "# # Adding titles and labels\n",
    "# plt.title('Histogram of Data')\n",
    "# plt.xlabel('Value')\n",
    "# plt.ylabel('Frequency')\n",
    "\n",
    "# # Showing the plot\n",
    "# plt.show()\n",
    "\n",
    "# Create histogram (with count labels ontop of each bar)\n",
    "# 1. Create the histogram using plt.hist.\n",
    "# 2. Iterate through the rectangles (bars) of the histogram.\n",
    "# 3. Use plt.text to place the count on top of each bar\n",
    "\n",
    "# patches represent the individual bars (rectangles) of the histogram\n",
    "hist, bins, patches = plt.hist(data, bins=bins, edgecolor='black')\n",
    "\n",
    "# Annotate each bar with the count\n",
    "for patch, count in zip(patches, hist):\n",
    "    plt.text(\n",
    "        patch.get_x() + patch.get_width() / 2,\n",
    "        patch.get_height(),\n",
    "        f'{int(count)}',\n",
    "        ha='center',\n",
    "        va='bottom'\n",
    "    )\n",
    "\n",
    "# Adding titles and labels\n",
    "plt.title('Histogram with Counts')\n",
    "plt.xlabel('Heights (cm)')\n",
    "plt.ylabel('Frequency')\n",
    "\n",
    "# Show the plot\n",
    "plt.show()\n"
   ]
  },
  {
   "cell_type": "code",
   "execution_count": null,
   "metadata": {},
   "outputs": [],
   "source": [
    "\n",
    "# Calculate bin centers\n",
    "bin_centers = (bin_edges[:-1] + bin_edges[1:]) / 2\n",
    "\n",
    "# Plot PDF\n",
    "plt.plot(bin_centers, counts, linestyle='-', marker='o')\n",
    "plt.xlabel('Value')\n",
    "plt.ylabel('Probability Density')\n",
    "plt.title('Probability Density Function')\n",
    "plt.show()"
   ]
  },
  {
   "cell_type": "code",
   "execution_count": null,
   "metadata": {},
   "outputs": [],
   "source": [
    "import numpy as np\n",
    "import matplotlib.pyplot as plt\n",
    "\n",
    "# Example data set\n",
    "data = np.array([1, 2, 2, 2.5, 3, 4, 5, 6, 7, 8, 9, 10])\n",
    "\n",
    "# Number of bins\n",
    "bins = 10\n",
    "\n",
    "# Calculate histogram\n",
    "counts, bin_edges = np.histogram(data, bins=bins, density=True)\n",
    "\n",
    "# Calculate bin centers\n",
    "bin_centers = (bin_edges[:-1] + bin_edges[1:]) / 2\n",
    "\n",
    "# Plot PDF\n",
    "plt.plot(bin_centers, counts, linestyle='-', marker='o')\n",
    "plt.xlabel('Value')\n",
    "plt.ylabel('Probability Density')\n",
    "plt.title('Probability Density Function')\n",
    "plt.show()\n"
   ]
  },
  {
   "cell_type": "code",
   "execution_count": null,
   "metadata": {},
   "outputs": [],
   "source": []
  },
  {
   "cell_type": "code",
   "execution_count": null,
   "metadata": {},
   "outputs": [],
   "source": []
  },
  {
   "cell_type": "code",
   "execution_count": null,
   "metadata": {},
   "outputs": [],
   "source": []
  },
  {
   "cell_type": "code",
   "execution_count": null,
   "metadata": {},
   "outputs": [],
   "source": []
  }
 ],
 "metadata": {
  "kernelspec": {
   "display_name": "Python 3",
   "language": "python",
   "name": "python3"
  },
  "language_info": {
   "codemirror_mode": {
    "name": "ipython",
    "version": 3
   },
   "file_extension": ".py",
   "mimetype": "text/x-python",
   "name": "python",
   "nbconvert_exporter": "python",
   "pygments_lexer": "ipython3",
   "version": "3.10.13"
  }
 },
 "nbformat": 4,
 "nbformat_minor": 2
}
